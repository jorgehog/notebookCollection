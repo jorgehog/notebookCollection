{
 "metadata": {
  "name": ""
 },
 "nbformat": 3,
 "nbformat_minor": 0,
 "worksheets": [
  {
   "cells": [
    {
     "cell_type": "code",
     "collapsed": false,
     "input": [
      "import wowapi\n",
      "import urllib2\n",
      "import re"
     ],
     "language": "python",
     "metadata": {},
     "outputs": [],
     "prompt_number": 1
    },
    {
     "cell_type": "code",
     "collapsed": false,
     "input": [
      "uglene = wowapi.get_guild_profile('eu.battle.net', 'draenor', 'uglene i mosen', fields='members')"
     ],
     "language": "python",
     "metadata": {},
     "outputs": [],
     "prompt_number": 2
    },
    {
     "cell_type": "code",
     "collapsed": false,
     "input": [
      "progress_ranks = [0, 1, 3]\n",
      "\n",
      "missing_upgrades = {}\n",
      "\n",
      "for member in uglene.members:\n",
      "    if member[\"rank\"] in progress_ranks:\n",
      "        name = member[\"character\"][\"name\"]\n",
      "        \n",
      "        resource = wowapi.get_character('eu.battle.net', \n",
      "                                    'draenor', \n",
      "                                    name,\n",
      "                                    fields=\"items\")\n",
      "\n",
      "        missing_upgrades[name] = []\n",
      "        \n",
      "        for item_description, item_data in resource.items.items():\n",
      "            \n",
      "            if type(item_data) is dict:\n",
      "                \n",
      "                parameters = item_data[\"tooltipParams\"]\n",
      "                \n",
      "                if \"upgrade\" in parameters.keys():\n",
      "                    upgrade_level = parameters[\"upgrade\"][\"current\"]\n",
      "                \n",
      "                    if upgrade_level != 2:\n",
      "                        missing_upgrades[name].append([item_description, item_data[\"itemLevel\"]])"
     ],
     "language": "python",
     "metadata": {},
     "outputs": [],
     "prompt_number": 3
    },
    {
     "cell_type": "code",
     "collapsed": false,
     "input": [
      "for name, missing_list in missing_upgrades.items():\n",
      "\n",
      "    if len(missing_list) == 0:\n",
      "        continue\n",
      "        \n",
      "    print \"%s :\" % name\n",
      "    \n",
      "    for item, ilvl in missing_list:\n",
      "        print \"\\t%s (%d)\" % (item.ljust(10), ilvl)\n",
      "    print"
     ],
     "language": "python",
     "metadata": {},
     "outputs": [
      {
       "output_type": "stream",
       "stream": "stdout",
       "text": [
        "Spekulum :\n",
        "\tneck       (715)\n",
        "\ttrinket1   (705)\n",
        "\twaist      (730)\n",
        "\tfinger1    (716)\n",
        "\tmainHand   (715)\n",
        "\tback       (720)\n",
        "\twrist      (700)\n",
        "\thands      (710)\n",
        "\tlegs       (710)\n",
        "\n",
        "Kneipen :\n",
        "\ttrinket2   (715)\n",
        "\n",
        "Thebendo :\n",
        "\tneck       (710)\n",
        "\ttrinket1   (716)\n",
        "\tfinger1    (716)\n",
        "\thead       (716)\n",
        "\tback       (711)\n",
        "\tfeet       (720)\n",
        "\twrist      (715)\n",
        "\tlegs       (710)\n",
        "\n",
        "Mariusq :\n",
        "\tneck       (715)\n",
        "\ttrinket1   (720)\n",
        "\tmainHand   (710)\n",
        "\tback       (725)\n",
        "\twrist      (721)\n",
        "\n",
        "Qutea :\n",
        "\tshoulder   (716)\n",
        "\tneck       (720)\n",
        "\ttrinket1   (705)\n",
        "\ttrinket2   (705)\n",
        "\tfinger1    (705)\n",
        "\thead       (710)\n",
        "\tmainHand   (716)\n",
        "\tback       (710)\n",
        "\tfeet       (715)\n",
        "\tchest      (710)\n",
        "\twrist      (715)\n",
        "\thands      (710)\n",
        "\tlegs       (710)\n",
        "\twaist      (726)\n",
        "\n",
        "Dieanne :\n",
        "\twrist      (710)\n",
        "\thands      (710)\n",
        "\n"
       ]
      }
     ],
     "prompt_number": 4
    },
    {
     "cell_type": "code",
     "collapsed": false,
     "input": [],
     "language": "python",
     "metadata": {},
     "outputs": [],
     "prompt_number": 4
    }
   ],
   "metadata": {}
  }
 ]
}